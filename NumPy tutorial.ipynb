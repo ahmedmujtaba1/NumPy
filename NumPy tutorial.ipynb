{
 "cells": [
  {
   "cell_type": "markdown",
   "id": "c9a8cf39",
   "metadata": {},
   "source": [
    "# What Is NumPy ?"
   ]
  },
  {
   "cell_type": "markdown",
   "id": "e2322f7c",
   "metadata": {},
   "source": [
    "### NumPy is the fundamental package for scientific computing in Python. It is a Python library that provides a multidimensional array object, various derived objects (such as masked arrays and matrices), and an assortment of routines for fast operations on arrays, including mathematical, logical, shape manipulation, sorting, selecting, I/O, discrete Fourier transforms, basic linear algebra, basic statistical operations, random simulation and much more."
   ]
  },
  {
   "cell_type": "code",
   "execution_count": 1,
   "id": "3c118af3",
   "metadata": {},
   "outputs": [],
   "source": [
    "#Let Get Started !"
   ]
  },
  {
   "cell_type": "code",
   "execution_count": 2,
   "id": "7213781e",
   "metadata": {},
   "outputs": [],
   "source": [
    "import numpy as np #importing numPy "
   ]
  },
  {
   "cell_type": "code",
   "execution_count": 6,
   "id": "767ff623",
   "metadata": {},
   "outputs": [],
   "source": [
    "myarr = np.array([[3, 6, 32, 7]], np.int32)"
   ]
  },
  {
   "cell_type": "code",
   "execution_count": 4,
   "id": "248236ca",
   "metadata": {},
   "outputs": [
    {
     "data": {
      "text/plain": [
       "array([ 3,  6, 32,  7])"
      ]
     },
     "execution_count": 4,
     "metadata": {},
     "output_type": "execute_result"
    }
   ],
   "source": [
    "myarr"
   ]
  },
  {
   "cell_type": "code",
   "execution_count": 7,
   "id": "e1fce8f7",
   "metadata": {},
   "outputs": [
    {
     "data": {
      "text/plain": [
       "6"
      ]
     },
     "execution_count": 7,
     "metadata": {},
     "output_type": "execute_result"
    }
   ],
   "source": [
    "#getting elements\n",
    "myarr[0,1]"
   ]
  },
  {
   "cell_type": "code",
   "execution_count": 8,
   "id": "4147c79f",
   "metadata": {},
   "outputs": [
    {
     "data": {
      "text/plain": [
       "(1, 4)"
      ]
     },
     "execution_count": 8,
     "metadata": {},
     "output_type": "execute_result"
    }
   ],
   "source": [
    "myarr.shape"
   ]
  },
  {
   "cell_type": "code",
   "execution_count": 9,
   "id": "25bfce39",
   "metadata": {},
   "outputs": [
    {
     "data": {
      "text/plain": [
       "dtype('int32')"
      ]
     },
     "execution_count": 9,
     "metadata": {},
     "output_type": "execute_result"
    }
   ],
   "source": [
    "myarr.dtype"
   ]
  },
  {
   "cell_type": "code",
   "execution_count": 10,
   "id": "a86ba5b7",
   "metadata": {},
   "outputs": [],
   "source": [
    "myarr[0,1] = 45 #changing element"
   ]
  },
  {
   "cell_type": "code",
   "execution_count": 11,
   "id": "a630ce48",
   "metadata": {},
   "outputs": [
    {
     "data": {
      "text/plain": [
       "array([[ 3, 45, 32,  7]])"
      ]
     },
     "execution_count": 11,
     "metadata": {},
     "output_type": "execute_result"
    }
   ],
   "source": [
    "myarr"
   ]
  },
  {
   "cell_type": "code",
   "execution_count": 12,
   "id": "c96ed592",
   "metadata": {},
   "outputs": [],
   "source": [
    "listarr = np.array([[1,2,3], [5,8,9], [91,23,69], [0,3,1]])"
   ]
  },
  {
   "cell_type": "code",
   "execution_count": 13,
   "id": "a1b17158",
   "metadata": {},
   "outputs": [
    {
     "data": {
      "text/plain": [
       "array([[ 1,  2,  3],\n",
       "       [ 5,  8,  9],\n",
       "       [91, 23, 69],\n",
       "       [ 0,  3,  1]])"
      ]
     },
     "execution_count": 13,
     "metadata": {},
     "output_type": "execute_result"
    }
   ],
   "source": [
    "listarr"
   ]
  },
  {
   "cell_type": "code",
   "execution_count": 14,
   "id": "c995a735",
   "metadata": {},
   "outputs": [
    {
     "data": {
      "text/plain": [
       "(4, 3)"
      ]
     },
     "execution_count": 14,
     "metadata": {},
     "output_type": "execute_result"
    }
   ],
   "source": [
    "listarr.shape"
   ]
  },
  {
   "cell_type": "code",
   "execution_count": 16,
   "id": "bd0767b8",
   "metadata": {},
   "outputs": [
    {
     "data": {
      "text/plain": [
       "12"
      ]
     },
     "execution_count": 16,
     "metadata": {},
     "output_type": "execute_result"
    }
   ],
   "source": [
    "listarr.size"
   ]
  },
  {
   "cell_type": "code",
   "execution_count": 17,
   "id": "69fbce12",
   "metadata": {},
   "outputs": [
    {
     "data": {
      "text/plain": [
       "dtype('int32')"
      ]
     },
     "execution_count": 17,
     "metadata": {},
     "output_type": "execute_result"
    }
   ],
   "source": [
    "listarr.dtype"
   ]
  },
  {
   "cell_type": "code",
   "execution_count": 18,
   "id": "fad2cb97",
   "metadata": {},
   "outputs": [
    {
     "data": {
      "text/plain": [
       "array({32, 34.2, 56}, dtype=object)"
      ]
     },
     "execution_count": 18,
     "metadata": {},
     "output_type": "execute_result"
    }
   ],
   "source": [
    "np.array({32,34.2,56})"
   ]
  },
  {
   "cell_type": "code",
   "execution_count": 19,
   "id": "07585c20",
   "metadata": {},
   "outputs": [],
   "source": [
    "zeros = np.zeros((2, 5))"
   ]
  },
  {
   "cell_type": "code",
   "execution_count": 20,
   "id": "95eb060d",
   "metadata": {},
   "outputs": [
    {
     "data": {
      "text/plain": [
       "array([[0., 0., 0., 0., 0.],\n",
       "       [0., 0., 0., 0., 0.]])"
      ]
     },
     "execution_count": 20,
     "metadata": {},
     "output_type": "execute_result"
    }
   ],
   "source": [
    "zeros"
   ]
  },
  {
   "cell_type": "code",
   "execution_count": 22,
   "id": "8d250648",
   "metadata": {},
   "outputs": [],
   "source": [
    "rng = np.arange(100)"
   ]
  },
  {
   "cell_type": "code",
   "execution_count": 23,
   "id": "c5a11a01",
   "metadata": {},
   "outputs": [
    {
     "data": {
      "text/plain": [
       "array([ 0,  1,  2,  3,  4,  5,  6,  7,  8,  9, 10, 11, 12, 13, 14, 15, 16,\n",
       "       17, 18, 19, 20, 21, 22, 23, 24, 25, 26, 27, 28, 29, 30, 31, 32, 33,\n",
       "       34, 35, 36, 37, 38, 39, 40, 41, 42, 43, 44, 45, 46, 47, 48, 49, 50,\n",
       "       51, 52, 53, 54, 55, 56, 57, 58, 59, 60, 61, 62, 63, 64, 65, 66, 67,\n",
       "       68, 69, 70, 71, 72, 73, 74, 75, 76, 77, 78, 79, 80, 81, 82, 83, 84,\n",
       "       85, 86, 87, 88, 89, 90, 91, 92, 93, 94, 95, 96, 97, 98, 99])"
      ]
     },
     "execution_count": 23,
     "metadata": {},
     "output_type": "execute_result"
    }
   ],
   "source": [
    "rng"
   ]
  },
  {
   "cell_type": "code",
   "execution_count": 27,
   "id": "b7cd29fe",
   "metadata": {},
   "outputs": [],
   "source": [
    "lspace = np.linspace(1,54,4)"
   ]
  },
  {
   "cell_type": "code",
   "execution_count": 28,
   "id": "219c5d26",
   "metadata": {},
   "outputs": [
    {
     "data": {
      "text/plain": [
       "array([ 1.        , 18.66666667, 36.33333333, 54.        ])"
      ]
     },
     "execution_count": 28,
     "metadata": {},
     "output_type": "execute_result"
    }
   ],
   "source": [
    "lspace"
   ]
  },
  {
   "cell_type": "code",
   "execution_count": 29,
   "id": "a355f452",
   "metadata": {},
   "outputs": [
    {
     "data": {
      "text/plain": [
       "dtype('float64')"
      ]
     },
     "execution_count": 29,
     "metadata": {},
     "output_type": "execute_result"
    }
   ],
   "source": [
    "lspace.dtype"
   ]
  },
  {
   "cell_type": "code",
   "execution_count": 30,
   "id": "873215cc",
   "metadata": {},
   "outputs": [],
   "source": [
    "emp = np.empty((4,6))"
   ]
  },
  {
   "cell_type": "code",
   "execution_count": 31,
   "id": "ec6dcfc0",
   "metadata": {},
   "outputs": [
    {
     "data": {
      "text/plain": [
       "array([[8.42282004e-312, 7.60861095e-322, 0.00000000e+000,\n",
       "        0.00000000e+000, 7.56599806e-307, 1.15998412e-028],\n",
       "       [4.31603868e-080, 1.94919985e-153, 1.35717430e+131,\n",
       "        8.48576822e-096, 1.81148490e-152, 8.09244594e-153],\n",
       "       [6.03108707e-154, 6.01391519e-154, 8.06374122e-096,\n",
       "        1.20092377e+141, 6.01347002e-154, 6.03104155e-154],\n",
       "       [1.95360725e-109, 4.90900643e+252, 1.94918511e-153,\n",
       "        6.32672800e+180, 4.74483502e+170, 4.59210323e-072]])"
      ]
     },
     "execution_count": 31,
     "metadata": {},
     "output_type": "execute_result"
    }
   ],
   "source": [
    "emp"
   ]
  },
  {
   "cell_type": "code",
   "execution_count": 32,
   "id": "ab1eb31b",
   "metadata": {},
   "outputs": [],
   "source": [
    "emp_like = np.empty_like(lspace)"
   ]
  },
  {
   "cell_type": "code",
   "execution_count": 33,
   "id": "d94659c7",
   "metadata": {},
   "outputs": [
    {
     "data": {
      "text/plain": [
       "array([ 1.        , 18.66666667, 36.33333333, 54.        ])"
      ]
     },
     "execution_count": 33,
     "metadata": {},
     "output_type": "execute_result"
    }
   ],
   "source": [
    "emp_like"
   ]
  },
  {
   "cell_type": "code",
   "execution_count": 34,
   "id": "2ac20cfd",
   "metadata": {},
   "outputs": [],
   "source": [
    "ide = np.identity(45)"
   ]
  },
  {
   "cell_type": "code",
   "execution_count": 35,
   "id": "1e263d32",
   "metadata": {},
   "outputs": [
    {
     "data": {
      "text/plain": [
       "array([[1., 0., 0., ..., 0., 0., 0.],\n",
       "       [0., 1., 0., ..., 0., 0., 0.],\n",
       "       [0., 0., 1., ..., 0., 0., 0.],\n",
       "       ...,\n",
       "       [0., 0., 0., ..., 1., 0., 0.],\n",
       "       [0., 0., 0., ..., 0., 1., 0.],\n",
       "       [0., 0., 0., ..., 0., 0., 1.]])"
      ]
     },
     "execution_count": 35,
     "metadata": {},
     "output_type": "execute_result"
    }
   ],
   "source": [
    "ide"
   ]
  },
  {
   "cell_type": "code",
   "execution_count": 36,
   "id": "f92a59c9",
   "metadata": {},
   "outputs": [
    {
     "data": {
      "text/plain": [
       "(45, 45)"
      ]
     },
     "execution_count": 36,
     "metadata": {},
     "output_type": "execute_result"
    }
   ],
   "source": [
    "ide.shape"
   ]
  },
  {
   "cell_type": "code",
   "execution_count": 38,
   "id": "9149ab85",
   "metadata": {},
   "outputs": [],
   "source": [
    "arr= np.arange(99)"
   ]
  },
  {
   "cell_type": "code",
   "execution_count": 39,
   "id": "9da2835c",
   "metadata": {},
   "outputs": [
    {
     "data": {
      "text/plain": [
       "array([ 0,  1,  2,  3,  4,  5,  6,  7,  8,  9, 10, 11, 12, 13, 14, 15, 16,\n",
       "       17, 18, 19, 20, 21, 22, 23, 24, 25, 26, 27, 28, 29, 30, 31, 32, 33,\n",
       "       34, 35, 36, 37, 38, 39, 40, 41, 42, 43, 44, 45, 46, 47, 48, 49, 50,\n",
       "       51, 52, 53, 54, 55, 56, 57, 58, 59, 60, 61, 62, 63, 64, 65, 66, 67,\n",
       "       68, 69, 70, 71, 72, 73, 74, 75, 76, 77, 78, 79, 80, 81, 82, 83, 84,\n",
       "       85, 86, 87, 88, 89, 90, 91, 92, 93, 94, 95, 96, 97, 98])"
      ]
     },
     "execution_count": 39,
     "metadata": {},
     "output_type": "execute_result"
    }
   ],
   "source": [
    "arr"
   ]
  },
  {
   "cell_type": "code",
   "execution_count": 41,
   "id": "abb877c3",
   "metadata": {},
   "outputs": [],
   "source": [
    "arr = arr.reshape(3, 33)"
   ]
  },
  {
   "cell_type": "code",
   "execution_count": 42,
   "id": "322cdcb5",
   "metadata": {},
   "outputs": [
    {
     "data": {
      "text/plain": [
       "array([[ 0,  1,  2,  3,  4,  5,  6,  7,  8,  9, 10, 11, 12, 13, 14, 15,\n",
       "        16, 17, 18, 19, 20, 21, 22, 23, 24, 25, 26, 27, 28, 29, 30, 31,\n",
       "        32],\n",
       "       [33, 34, 35, 36, 37, 38, 39, 40, 41, 42, 43, 44, 45, 46, 47, 48,\n",
       "        49, 50, 51, 52, 53, 54, 55, 56, 57, 58, 59, 60, 61, 62, 63, 64,\n",
       "        65],\n",
       "       [66, 67, 68, 69, 70, 71, 72, 73, 74, 75, 76, 77, 78, 79, 80, 81,\n",
       "        82, 83, 84, 85, 86, 87, 88, 89, 90, 91, 92, 93, 94, 95, 96, 97,\n",
       "        98]])"
      ]
     },
     "execution_count": 42,
     "metadata": {},
     "output_type": "execute_result"
    }
   ],
   "source": [
    "arr"
   ]
  },
  {
   "cell_type": "code",
   "execution_count": 45,
   "id": "16725e1c",
   "metadata": {},
   "outputs": [
    {
     "data": {
      "text/plain": [
       "array([ 0,  1,  2,  3,  4,  5,  6,  7,  8,  9, 10, 11, 12, 13, 14, 15, 16,\n",
       "       17, 18, 19, 20, 21, 22, 23, 24, 25, 26, 27, 28, 29, 30, 31, 32, 33,\n",
       "       34, 35, 36, 37, 38, 39, 40, 41, 42, 43, 44, 45, 46, 47, 48, 49, 50,\n",
       "       51, 52, 53, 54, 55, 56, 57, 58, 59, 60, 61, 62, 63, 64, 65, 66, 67,\n",
       "       68, 69, 70, 71, 72, 73, 74, 75, 76, 77, 78, 79, 80, 81, 82, 83, 84,\n",
       "       85, 86, 87, 88, 89, 90, 91, 92, 93, 94, 95, 96, 97, 98])"
      ]
     },
     "execution_count": 45,
     "metadata": {},
     "output_type": "execute_result"
    }
   ],
   "source": [
    "arr = arr.ravel()\n",
    "arr"
   ]
  },
  {
   "cell_type": "code",
   "execution_count": 47,
   "id": "652e34f6",
   "metadata": {},
   "outputs": [
    {
     "data": {
      "text/plain": [
       "(99,)"
      ]
     },
     "execution_count": 47,
     "metadata": {},
     "output_type": "execute_result"
    }
   ],
   "source": [
    "arr.shape"
   ]
  },
  {
   "cell_type": "code",
   "execution_count": 52,
   "id": "9e8643d3",
   "metadata": {},
   "outputs": [],
   "source": [
    "x = [[1,2,3], [4,5,6], [7,1,0]]"
   ]
  },
  {
   "cell_type": "code",
   "execution_count": 53,
   "id": "7d858903",
   "metadata": {},
   "outputs": [],
   "source": [
    "arr = np.array(x)"
   ]
  },
  {
   "cell_type": "code",
   "execution_count": 54,
   "id": "70265f22",
   "metadata": {},
   "outputs": [
    {
     "data": {
      "text/plain": [
       "array([[1, 2, 3],\n",
       "       [4, 5, 6],\n",
       "       [7, 1, 0]])"
      ]
     },
     "execution_count": 54,
     "metadata": {},
     "output_type": "execute_result"
    }
   ],
   "source": [
    "arr"
   ]
  },
  {
   "cell_type": "code",
   "execution_count": 55,
   "id": "e7b45a3d",
   "metadata": {},
   "outputs": [
    {
     "data": {
      "text/plain": [
       "array([12,  8,  9])"
      ]
     },
     "execution_count": 55,
     "metadata": {},
     "output_type": "execute_result"
    }
   ],
   "source": [
    "arr.sum(axis=0)gi"
   ]
  },
  {
   "cell_type": "code",
   "execution_count": 56,
   "id": "5ff48ead",
   "metadata": {},
   "outputs": [
    {
     "data": {
      "text/plain": [
       "array([ 6, 15,  8])"
      ]
     },
     "execution_count": 56,
     "metadata": {},
     "output_type": "execute_result"
    }
   ],
   "source": [
    "arr.sum(axis=1)"
   ]
  },
  {
   "cell_type": "code",
   "execution_count": null,
   "id": "f30803b9",
   "metadata": {},
   "outputs": [],
   "source": []
  }
 ],
 "metadata": {
  "kernelspec": {
   "display_name": "Python 3 (ipykernel)",
   "language": "python",
   "name": "python3"
  },
  "language_info": {
   "codemirror_mode": {
    "name": "ipython",
    "version": 3
   },
   "file_extension": ".py",
   "mimetype": "text/x-python",
   "name": "python",
   "nbconvert_exporter": "python",
   "pygments_lexer": "ipython3",
   "version": "3.9.13"
  }
 },
 "nbformat": 4,
 "nbformat_minor": 5
}
